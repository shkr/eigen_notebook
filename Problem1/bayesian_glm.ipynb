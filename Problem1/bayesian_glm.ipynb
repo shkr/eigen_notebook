{
 "cells": [
  {
   "cell_type": "code",
   "execution_count": 1,
   "metadata": {
    "collapsed": false
   },
   "outputs": [],
   "source": [
    "%load_ext autoreload\n",
    "%autoreload 2\n",
    "%matplotlib inline\n",
    "\n",
    "import pymc3 as pm\n",
    "\n",
    "import matplotlib.pyplot as plt\n",
    "import numpy as np\n",
    "import pandas as pd\n",
    "import theano\n",
    "import scipy.stats as stats\n",
    "import scipy\n",
    "import seaborn as sns\n",
    "import pickle\n",
    "sns.set(color_codes=True)\n",
    "\n",
    "from bayesian import CLRM, Result"
   ]
  },
  {
   "cell_type": "code",
   "execution_count": 2,
   "metadata": {
    "collapsed": false,
    "scrolled": false
   },
   "outputs": [],
   "source": [
    "# Set logging\n",
    "import logging\n",
    "\n",
    "logging.basicConfig(level=logging.INFO)\n",
    "logger = logging.getLogger('bayesian_glm')\n",
    "\n",
    "plt.style.use('fivethirtyeight')\n",
    "%matplotlib inline\n",
    "\n",
    "files = [\"data_1_1.csv\", \"data_1_2.csv\", \"data_1_3.csv\", \"data_1_4.csv\", \"data_1_5.csv\"]"
   ]
  },
  {
   "cell_type": "code",
   "execution_count": null,
   "metadata": {
    "collapsed": false
   },
   "outputs": [
    {
     "name": "stderr",
     "output_type": "stream",
     "text": [
      "INFO:CLRM:reading file data_1_1.csv\n",
      "INFO:CLRM:shape of X is (100,)\n",
      "INFO:CLRM:shape of Y is (100,)\n",
      "INFO:CLRM:Fitting linear model for filename data_1_1.csv\n",
      "Auto-assigning NUTS sampler...\n",
      "INFO:pymc3:Auto-assigning NUTS sampler...\n",
      "Initializing NUTS using advi_map...\n",
      "INFO:pymc3:Initializing NUTS using advi_map...\n"
     ]
    },
    {
     "name": "stdout",
     "output_type": "stream",
     "text": [
      "Optimization terminated successfully.\n",
      "         Current function value: 297.473455\n",
      "         Iterations: 16\n",
      "         Function evaluations: 19\n",
      "         Gradient evaluations: 19\n"
     ]
    },
    {
     "name": "stderr",
     "output_type": "stream",
     "text": [
      "Average ELBO = -299.5: 100%|██████████| 200000/200000 [00:24<00:00, 8009.04it/s]\n",
      "Finished [100%]: Average ELBO = -299.49\n",
      "INFO:pymc3:Finished [100%]: Average ELBO = -299.49\n",
      "100%|██████████| 10000/10000 [00:15<00:00, 655.56it/s]\n",
      "INFO:CLRM:Time taken = 53.3276309967\n",
      "INFO:CLRM:reading file data_1_2.csv\n",
      "INFO:CLRM:shape of X is (100,)\n",
      "INFO:CLRM:shape of Y is (100,)\n",
      "INFO:CLRM:Fitting linear model for filename data_1_2.csv\n",
      "Auto-assigning NUTS sampler...\n",
      "INFO:pymc3:Auto-assigning NUTS sampler...\n",
      "Initializing NUTS using advi_map...\n",
      "INFO:pymc3:Initializing NUTS using advi_map...\n"
     ]
    },
    {
     "name": "stdout",
     "output_type": "stream",
     "text": [
      "Optimization terminated successfully.\n",
      "         Current function value: 391.462838\n",
      "         Iterations: 18\n",
      "         Function evaluations: 21\n",
      "         Gradient evaluations: 21\n"
     ]
    },
    {
     "name": "stderr",
     "output_type": "stream",
     "text": [
      "Average ELBO = -393.05: 100%|██████████| 200000/200000 [00:22<00:00, 8863.44it/s]\n",
      "Finished [100%]: Average ELBO = -393.04\n",
      "INFO:pymc3:Finished [100%]: Average ELBO = -393.04\n",
      "  8%|▊         | 848/10000 [00:03<00:22, 403.36it/s]"
     ]
    }
   ],
   "source": [
    "results_linear = []\n",
    "for f in files:\n",
    "    clrm = CLRM(f, lambda w, x: 1/w*np.abs(x))\n",
    "    clrm.fit_linear_model(10000)\n",
    "    results_linear.append(clrm)"
   ]
  },
  {
   "cell_type": "code",
   "execution_count": null,
   "metadata": {
    "collapsed": false
   },
   "outputs": [],
   "source": [
    "results_constant = []\n",
    "for f in files:\n",
    "    clrm = CLRM(f, lambda w, x: w)\n",
    "    clrm.fit_linear_model(10000)\n",
    "    results_constant.append(clrm)"
   ]
  },
  {
   "cell_type": "code",
   "execution_count": 38,
   "metadata": {
    "collapsed": false
   },
   "outputs": [
    {
     "data": {
      "text/plain": [
       "<seaborn.axisgrid.FacetGrid at 0x1368244d0>"
      ]
     },
     "execution_count": 38,
     "metadata": {},
     "output_type": "execute_result"
    },
    {
     "data": {
      "image/png": "[encoded data removed]",
      "text/plain": [
       "<matplotlib.figure.Figure at 0x138691c10>"
      ]
     },
     "metadata": {},
     "output_type": "display_data"
    }
   ],
   "source": [
    "results_stats = {'w*|x|': {}, 'w': {}}\n",
    "\n",
    "for item in results_w:\n",
    "    results_stats['w*|x|'][item.file_name] = {'rmsd': item.rmsd()}\n",
    "    \n",
    "for item in results_homo:\n",
    "    results_stats['w'][item.file_name] = {'rmsd': item.rmsd()}    \n",
    "    \n",
    "metrics = []\n",
    "for k, v in results_stats.items():\n",
    "    for f, stat in v.items():\n",
    "            metrics.append({'model': k, 'file_name': f, 'rmsd': stat['rmsd']})    \n",
    "            \n",
    "df = pd.DataFrame(metrics)\n",
    "\n",
    "import seaborn as sns\n",
    "sns.set(style=\"whitegrid\")\n",
    "\n",
    "\n",
    "# Draw a nested barplot to show survival for class and sex\n",
    "g = sns.factorplot(x=\"file_name\", y=\"rmsd\", hue=\"model\", data=df,\n",
    "                   size=6, kind=\"bar\", palette=\"muted\")\n",
    "g.despine(left=True)\n",
    "g.set_ylabels(\"rmsd\")            "
   ]
  },
  {
   "cell_type": "code",
   "execution_count": 39,
   "metadata": {
    "collapsed": false
   },
   "outputs": [
    {
     "data": {
      "text/plain": [
       "0.06392857142857143"
      ]
     },
     "execution_count": 39,
     "metadata": {},
     "output_type": "execute_result"
    }
   ],
   "source": [
    "(((0.1875+0.0106)*100)+(50*(0.009+0.0311+0.0112)))/(350)"
   ]
  },
  {
   "cell_type": "code",
   "execution_count": 33,
   "metadata": {
    "collapsed": false
   },
   "outputs": [
    {
     "data": {
      "text/html": [
       "<div>\n",
       "<table border=\"1\" class=\"dataframe\">\n",
       "  <thead>\n",
       "    <tr style=\"text-align: right;\">\n",
       "      <th></th>\n",
       "      <th>file_name</th>\n",
       "      <th>model</th>\n",
       "      <th>rmsd</th>\n",
       "    </tr>\n",
       "  </thead>\n",
       "  <tbody>\n",
       "    <tr>\n",
       "      <th>0</th>\n",
       "      <td>data_1_2.csv</td>\n",
       "      <td>w*|x|</td>\n",
       "      <td>0.187564</td>\n",
       "    </tr>\n",
       "    <tr>\n",
       "      <th>1</th>\n",
       "      <td>data_1_1.csv</td>\n",
       "      <td>w*|x|</td>\n",
       "      <td>0.010629</td>\n",
       "    </tr>\n",
       "    <tr>\n",
       "      <th>2</th>\n",
       "      <td>data_1_4.csv</td>\n",
       "      <td>w*|x|</td>\n",
       "      <td>0.009982</td>\n",
       "    </tr>\n",
       "    <tr>\n",
       "      <th>3</th>\n",
       "      <td>data_1_3.csv</td>\n",
       "      <td>w*|x|</td>\n",
       "      <td>0.031137</td>\n",
       "    </tr>\n",
       "    <tr>\n",
       "      <th>4</th>\n",
       "      <td>data_1_5.csv</td>\n",
       "      <td>w*|x|</td>\n",
       "      <td>0.011203</td>\n",
       "    </tr>\n",
       "    <tr>\n",
       "      <th>5</th>\n",
       "      <td>data_1_2.csv</td>\n",
       "      <td>w</td>\n",
       "      <td>0.061943</td>\n",
       "    </tr>\n",
       "    <tr>\n",
       "      <th>6</th>\n",
       "      <td>data_1_1.csv</td>\n",
       "      <td>w</td>\n",
       "      <td>0.010907</td>\n",
       "    </tr>\n",
       "    <tr>\n",
       "      <th>7</th>\n",
       "      <td>data_1_4.csv</td>\n",
       "      <td>w</td>\n",
       "      <td>0.005060</td>\n",
       "    </tr>\n",
       "    <tr>\n",
       "      <th>8</th>\n",
       "      <td>data_1_3.csv</td>\n",
       "      <td>w</td>\n",
       "      <td>0.105794</td>\n",
       "    </tr>\n",
       "    <tr>\n",
       "      <th>9</th>\n",
       "      <td>data_1_5.csv</td>\n",
       "      <td>w</td>\n",
       "      <td>0.018112</td>\n",
       "    </tr>\n",
       "  </tbody>\n",
       "</table>\n",
       "</div>"
      ],
      "text/plain": [
       "      file_name  model      rmsd\n",
       "0  data_1_2.csv  w*|x|  0.187564\n",
       "1  data_1_1.csv  w*|x|  0.010629\n",
       "2  data_1_4.csv  w*|x|  0.009982\n",
       "3  data_1_3.csv  w*|x|  0.031137\n",
       "4  data_1_5.csv  w*|x|  0.011203\n",
       "5  data_1_2.csv      w  0.061943\n",
       "6  data_1_1.csv      w  0.010907\n",
       "7  data_1_4.csv      w  0.005060\n",
       "8  data_1_3.csv      w  0.105794\n",
       "9  data_1_5.csv      w  0.018112"
      ]
     },
     "execution_count": 33,
     "metadata": {},
     "output_type": "execute_result"
    }
   ],
   "source": [
    "df"
   ]
  },
  {
   "cell_type": "code",
   "execution_count": 40,
   "metadata": {
    "collapsed": false
   },
   "outputs": [
    {
     "data": {
      "text/plain": [
       "0.0384"
      ]
     },
     "execution_count": 40,
     "metadata": {},
     "output_type": "execute_result"
    }
   ],
   "source": [
    "(((0.01+0.06)*100)+(50*(0.005+0.1057+0.0181)))/(350)"
   ]
  }
 ],
 "metadata": {
  "kernelspec": {
   "display_name": "Python 2",
   "language": "python",
   "name": "python2"
  },
  "language_info": {
   "codemirror_mode": {
    "name": "ipython",
    "version": 2
   },
   "file_extension": ".py",
   "mimetype": "text/x-python",
   "name": "python",
   "nbconvert_exporter": "python",
   "pygments_lexer": "ipython2",
   "version": "2.7.12"
  }
 },
 "nbformat": 4,
 "nbformat_minor": 1
}
