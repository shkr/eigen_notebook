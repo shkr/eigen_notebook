{
 "cells": [
  {
   "cell_type": "code",
   "execution_count": 1,
   "metadata": {
    "collapsed": false
   },
   "outputs": [],
   "source": [
    "%matplotlib inline\n",
    "\n",
    "import pymc3 as pm\n",
    "\n",
    "import matplotlib.pyplot as plt\n",
    "import numpy as np\n",
    "import pandas as pd\n",
    "import theano\n",
    "import scipy.stats as stats\n",
    "import scipy\n",
    "import seaborn as sns\n",
    "sns.set(color_codes=True)"
   ]
  },
  {
   "cell_type": "code",
   "execution_count": 2,
   "metadata": {
    "collapsed": true
   },
   "outputs": [],
   "source": [
    "# Set logging\n",
    "import logging\n",
    "\n",
    "logging.basicConfig(level=logging.INFO)\n",
    "logger = logging.getLogger('bayesian_glm')\n",
    "\n",
    "from matplotlib import pyplot as plt\n",
    "plt.style.use('fivethirtyeight')\n",
    "%matplotlib inline"
   ]
  },
  {
   "cell_type": "markdown",
   "metadata": {},
   "source": [
    "<H3> Select Dataset </H3>"
   ]
  },
  {
   "cell_type": "code",
   "execution_count": 4,
   "metadata": {
    "collapsed": false
   },
   "outputs": [
    {
     "name": "stderr",
     "output_type": "stream",
     "text": [
      "INFO:bayesian_glm:reading file data_1_1.csv\n",
      "INFO:bayesian_glm:shape of [X] is (100,)\n",
      "/Users/shashank/.virtualenvs/vvf/lib/python2.7/site-packages/sklearn/preprocessing/data.py:321: DeprecationWarning: Passing 1d arrays as data is deprecated in 0.17 and will raise ValueError in 0.19. Reshape your data either using X.reshape(-1, 1) if your data has a single feature or X.reshape(1, -1) if it contains a single sample.\n",
      "  warnings.warn(DEPRECATION_MSG_1D, DeprecationWarning)\n",
      "INFO:bayesian_glm:shape of [Y] is (100,)\n",
      "/Users/shashank/.virtualenvs/vvf/lib/python2.7/site-packages/sklearn/preprocessing/data.py:356: DeprecationWarning: Passing 1d arrays as data is deprecated in 0.17 and will raise ValueError in 0.19. Reshape your data either using X.reshape(-1, 1) if your data has a single feature or X.reshape(1, -1) if it contains a single sample.\n",
      "  warnings.warn(DEPRECATION_MSG_1D, DeprecationWarning)\n"
     ]
    }
   ],
   "source": [
    "file_index = 0\n",
    "\n",
    "x, y = xy_op(file_index)\n",
    "data = dict(x=x, y=y)"
   ]
  },
  {
   "cell_type": "code",
   "execution_count": 9,
   "metadata": {
    "collapsed": false
   },
   "outputs": [
    {
     "data": {
      "image/png": "[encoded data removed]",
      "text/plain": [
       "<matplotlib.figure.Figure at 0x115e26590>"
      ]
     },
     "metadata": {},
     "output_type": "display_data"
    }
   ],
   "source": [
    "fig = plt.figure(figsize=(9, 9))\n",
    "ax = fig.add_subplot(211)\n",
    "ax.scatter(x[:], y[:], s=10, c='g')\n",
    "ax.set_ylabel(\"Y\")\n",
    "ax.set_xlabel('X')\n",
    "ax.set_title(\"training_data [{}]\".format(file_index))\n",
    "ax.legend() \n",
    "\n",
    "ax = fig.add_subplot(211)\n",
    "\n",
    "fig.show()"
   ]
  },
  {
   "cell_type": "code",
   "execution_count": 5,
   "metadata": {
    "collapsed": false
   },
   "outputs": [],
   "source": [
    "class LinearModelWithError(object):\n",
    "    \n",
    "    \n",
    "    def __init__(self, file_name):\n",
    "        self.file_name = file_name\n",
    "        (self.x, self.y) = self.xy_op(file_name)\n",
    "        self.model = self.model(self.x, self.y)\n",
    "        \n",
    "        \n",
    "    @staticmethod        \n",
    "    def xy_op(file_name):\n",
    "\n",
    "        logger.info(\"reading file {}\".format(file_name))\n",
    "        df = pd.read_csv(file_name)\n",
    "        exog = df['x'].as_matrix()\n",
    "        endo = df['y'].as_matrix()\n",
    "\n",
    "        sample_size = exog.shape[0]\n",
    "\n",
    "        x = exog\n",
    "        logger.info(\"shape of [X] is {}\".format(x.shape))\n",
    "        logger.debug(\"[X] is {}\".format(x[:3]))\n",
    "\n",
    "        from sklearn import preprocessing\n",
    "        x_scaler = preprocessing.MinMaxScaler().fit(x)\n",
    "\n",
    "        y = endo\n",
    "        logger.info(\"shape of [Y] is {}\".format(y.shape))\n",
    "        logger.debug(\"[Y] is {}\".format(y[:3]))\n",
    "\n",
    "        return (x_scaler.transform(x), y)\n",
    "    \n",
    "    \n",
    "    @staticmethod\n",
    "    def model(x, y):\n",
    "        \"\"\"\n",
    "        Student T distribution\n",
    "\n",
    "        This one with uniform priors\n",
    "\n",
    "        Parameters\n",
    "            ----------\n",
    "            nu : int\n",
    "                Degrees of freedom (nu > 0).\n",
    "            mu : float\n",
    "                Location parameter.\n",
    "            lam : float\n",
    "                Scale parameter (lam > 0).\n",
    "        \"\"\"\n",
    "        with pm.Model() as vvf_model:\n",
    "\n",
    "            # Define priors\n",
    "            b0 = pm.Normal(\"b0\", mu=0, sd=20)\n",
    "            b1 = pm.Normal(\"b1\", mu=0, sd=20)\n",
    "            lam = pm.Uniform(\"lam\", lower=0.0, upper=20.0)\n",
    "            nu = pm.Uniform(\"nu\", lower=0.0, upper=20.0)\n",
    "\n",
    "            # Identity Link Function \n",
    "            mu = b0 + b1*x\n",
    "\n",
    "            y_obs = pm.StudentT(\"y_obs\", mu=mu, lam=lam, nu=nu, observed=y)\n",
    "        \n",
    "        return vvf_model\n",
    "    \n",
    "    \n",
    "    def mcmc(self):\n",
    "        \n",
    "        with self.model as vvf_model:\n",
    "            start = pm.find_MAP(model=vvf_model, fmin=scipy.optimize.fmin_powell)\n",
    "            logger.info(\"Starting values = {}\".format(start))\n",
    "\n",
    "            # draw posterior samples\n",
    "            trace = pm.sampling.sample(10000, start=start)    \n",
    "        return trace\n",
    "            \n",
    "    \n",
    "    def result_and_diagnostics(self):\n",
    "        \n",
    "        print(\"Results and Diagnostics for {}\".format(self.file_name))\n",
    "        x, y = self.x, self.y\n",
    "        \n",
    "        # plot the trace\n",
    "        trace = self.mcmc()\n",
    "        pm.plots.traceplot(trace)\n",
    "        \n",
    "        # plot the ppc\n",
    "        \"\"\"\n",
    "        <H4> Posterior Predictive Distribution </H4>\n",
    "\n",
    "        ```\n",
    "        contains 500 generated data sets (containing 100 samples each), \n",
    "        each using a different parameter setting from the posterior\n",
    "        ```\n",
    "        \"\"\"\n",
    "        ppc = pm.sampling.sample_ppc(trace, samples=500, model=self.model)\n",
    "\n",
    "        \n",
    "        # posterior predictive mean\n",
    "        def plot_posterior_predictive_mean(ax):\n",
    "            # Posterior Predictive of the mean\n",
    "            sns.distplot([np.mean(n) for n in ppc['y_obs']], kde=False, ax=ax)\n",
    "            ax.axvline(y.mean())\n",
    "            ax.set(title='Posterior predictive of the mean', xlabel='mean(y_obs)', ylabel='Frequency');\n",
    "\n",
    "            \n",
    "        # posterior cdf\n",
    "        def plot_posterior_cdf(ax):\n",
    "            sns.distplot(y,\n",
    "                 hist_kws=dict(cumulative=True),\n",
    "                 kde_kws=dict(cumulative=True),\n",
    "                 ax=ax)\n",
    "            sns.distplot(y,\n",
    "                 hist_kws=dict(cumulative=True),\n",
    "                 kde_kws=dict(cumulative=True),\n",
    "                 ax=ax)\n",
    "\n",
    "            # Posterior Predictive of the mean\n",
    "            sns.distplot([n.mean() for n in ppc['y_obs']], kde=False, ax=ax)\n",
    "            ax.axvline(y.mean())\n",
    "            ax.set(title='Posterior predictive of the mean', xlabel='mean(y_obs)', ylabel='Frequency');\n",
    "\n",
    "\n",
    "        # Linear Fit\n",
    "        def plot_linear_fit(ax):\n",
    "            # Select Best Estimate\n",
    "            b0_mean = np.mean([item['b0'] for item in trace])\n",
    "            b1_mean = np.mean([item['b1'] for item in trace])\n",
    "            ax.scatter(x[:], y[:], s=10, c='g')\n",
    "            ax.plot(x[:], (b0_mean + b1_mean*x)[:])\n",
    "            ax.set_ylabel(\"Y\")\n",
    "            ax.set_xlabel('X')\n",
    "            ax.set_title(\"training_data [{}] with linear fit\".format(self.file_name))\n",
    "            ax.legend() \n",
    "\n",
    "\n",
    "        fig = plt.figure(figsize=(10, 10))\n",
    "        plot_posterior_predictive_mean(fig.add_subplot(211))\n",
    "        plot_linear_fit(fig.add_subplot(212))\n",
    "        fig.show() \n",
    "        pm.summary(trace)"
   ]
  },
  {
   "cell_type": "code",
   "execution_count": null,
   "metadata": {
    "collapsed": false,
    "scrolled": false
   },
   "outputs": [
    {
     "name": "stderr",
     "output_type": "stream",
     "text": [
      "INFO:bayesian_glm:reading file data_1_1.csv\n",
      "INFO:bayesian_glm:shape of [X] is (100,)\n",
      "/Users/shashank/.virtualenvs/vvf/lib/python2.7/site-packages/sklearn/preprocessing/data.py:321: DeprecationWarning: Passing 1d arrays as data is deprecated in 0.17 and will raise ValueError in 0.19. Reshape your data either using X.reshape(-1, 1) if your data has a single feature or X.reshape(1, -1) if it contains a single sample.\n",
      "  warnings.warn(DEPRECATION_MSG_1D, DeprecationWarning)\n",
      "INFO:bayesian_glm:shape of [Y] is (100,)\n",
      "/Users/shashank/.virtualenvs/vvf/lib/python2.7/site-packages/sklearn/preprocessing/data.py:356: DeprecationWarning: Passing 1d arrays as data is deprecated in 0.17 and will raise ValueError in 0.19. Reshape your data either using X.reshape(-1, 1) if your data has a single feature or X.reshape(1, -1) if it contains a single sample.\n",
      "  warnings.warn(DEPRECATION_MSG_1D, DeprecationWarning)\n",
      "Applied interval-transform to lam and added transformed lam_interval_ to model.\n",
      "INFO:pymc3:Applied interval-transform to lam and added transformed lam_interval_ to model.\n",
      "Applied interval-transform to nu and added transformed nu_interval_ to model.\n",
      "INFO:pymc3:Applied interval-transform to nu and added transformed nu_interval_ to model.\n"
     ]
    },
    {
     "name": "stdout",
     "output_type": "stream",
     "text": [
      "Results and Diagnostics for data_1_1.csv\n"
     ]
    },
    {
     "name": "stderr",
     "output_type": "stream",
     "text": [
      "INFO:bayesian_glm:Starting values = {'lam_interval_': array(-4.557408228740321), 'nu_interval_': array(-2.298544621843592), 'b0': array(-5.591286259567409), 'b1': array(10.651751211310803)}\n",
      "Assigned NUTS to b0\n",
      "INFO:pymc3:Assigned NUTS to b0\n",
      "Assigned NUTS to b1\n",
      "INFO:pymc3:Assigned NUTS to b1\n",
      "Assigned NUTS to lam_interval_\n",
      "INFO:pymc3:Assigned NUTS to lam_interval_\n",
      "Assigned NUTS to nu_interval_\n",
      "INFO:pymc3:Assigned NUTS to nu_interval_\n",
      "100%|██████████| 10000/10000 [00:10<00:00, 930.90it/s]\n",
      "INFO:bayesian_glm:reading file data_1_2.csv\n",
      "INFO:bayesian_glm:shape of [X] is (100,)\n",
      "/Users/shashank/.virtualenvs/vvf/lib/python2.7/site-packages/sklearn/preprocessing/data.py:321: DeprecationWarning: Passing 1d arrays as data is deprecated in 0.17 and will raise ValueError in 0.19. Reshape your data either using X.reshape(-1, 1) if your data has a single feature or X.reshape(1, -1) if it contains a single sample.\n",
      "  warnings.warn(DEPRECATION_MSG_1D, DeprecationWarning)\n",
      "INFO:bayesian_glm:shape of [Y] is (100,)\n",
      "/Users/shashank/.virtualenvs/vvf/lib/python2.7/site-packages/sklearn/preprocessing/data.py:356: DeprecationWarning: Passing 1d arrays as data is deprecated in 0.17 and will raise ValueError in 0.19. Reshape your data either using X.reshape(-1, 1) if your data has a single feature or X.reshape(1, -1) if it contains a single sample.\n",
      "  warnings.warn(DEPRECATION_MSG_1D, DeprecationWarning)\n",
      "Applied interval-transform to lam and added transformed lam_interval_ to model.\n",
      "INFO:pymc3:Applied interval-transform to lam and added transformed lam_interval_ to model.\n"
     ]
    },
    {
     "name": "stdout",
     "output_type": "stream",
     "text": [
      "\n",
      "b0:\n",
      "\n",
      "  Mean             SD               MC Error         95% HPD interval\n",
      "  -------------------------------------------------------------------\n",
      "  \n",
      "  -5.568           0.717            0.015            [-6.980, -4.200]\n",
      "\n",
      "  Posterior quantiles:\n",
      "  2.5            25             50             75             97.5\n",
      "  |--------------|==============|==============|--------------|\n",
      "  \n",
      "  -6.956         -6.061         -5.571         -5.078         -4.169\n",
      "\n",
      "\n",
      "b1:\n",
      "\n",
      "  Mean             SD               MC Error         95% HPD interval\n",
      "  -------------------------------------------------------------------\n",
      "  \n",
      "  10.610           1.301            0.027            [8.008, 13.076]\n",
      "\n",
      "  Posterior quantiles:\n",
      "  2.5            25             50             75             97.5\n",
      "  |--------------|==============|==============|--------------|\n",
      "  \n",
      "  8.082          9.745          10.602         11.507         13.190\n",
      "\n",
      "\n",
      "lam:\n",
      "\n",
      "  Mean             SD               MC Error         95% HPD interval\n",
      "  -------------------------------------------------------------------\n",
      "  \n",
      "  0.205            0.066            0.001            [0.093, 0.336]\n",
      "\n",
      "  Posterior quantiles:\n",
      "  2.5            25             50             75             97.5\n",
      "  |--------------|==============|==============|--------------|\n",
      "  \n",
      "  0.104          0.159          0.196          0.241          0.360\n",
      "\n",
      "\n",
      "nu:\n",
      "\n",
      "  Mean             SD               MC Error         95% HPD interval\n",
      "  -------------------------------------------------------------------\n",
      "  \n",
      "  1.977            0.575            0.008            [1.070, 3.112]\n",
      "\n",
      "  Posterior quantiles:\n",
      "  2.5            25             50             75             97.5\n",
      "  |--------------|==============|==============|--------------|\n",
      "  \n",
      "  1.174          1.593          1.875          2.248          3.382\n",
      "\n"
     ]
    },
    {
     "name": "stderr",
     "output_type": "stream",
     "text": [
      "Applied interval-transform to nu and added transformed nu_interval_ to model.\n",
      "INFO:pymc3:Applied interval-transform to nu and added transformed nu_interval_ to model.\n"
     ]
    },
    {
     "name": "stdout",
     "output_type": "stream",
     "text": [
      "Results and Diagnostics for data_1_2.csv\n"
     ]
    }
   ],
   "source": [
    "files = [\"data_1_1.csv\", \"data_1_2.csv\", \"data_1_3.csv\", \"data_1_4.csv\", \"data_1_5.csv\"]\n",
    "\n",
    "for file_name in files:\n",
    "    lm = LinearModelWithError(file_name)\n",
    "    lm.result_and_diagnostics()"
   ]
  },
  {
   "cell_type": "code",
   "execution_count": 176,
   "metadata": {
    "collapsed": false
   },
   "outputs": [
    {
     "data": {
      "image/png": "[encoded data removed]",
      "text/plain": [
       "<matplotlib.figure.Figure at 0x1536f8f90>"
      ]
     },
     "metadata": {},
     "output_type": "display_data"
    }
   ],
   "source": [
    "fig = plt.figure(figsize=(10, 10))\n",
    "ax1 = fig.add_subplot(211)\n",
    "ax1.scatter(x[:], y[:], s=10, c='g')\n",
    "ax1.plot(x[:], (est['b0'] + est['b1']*x)[:])\n",
    "ax1.set_ylabel(\"Y\")\n",
    "ax1.set_xlabel('X')\n",
    "ax1.set_title(\"training_data [{}] with linear fit\".format(file_index))\n",
    "ax1.legend() \n",
    "\n",
    "\n",
    "ax2 = fig.add_subplot(212)\n",
    "\n",
    "# error of the observed data given b1 and b0\n",
    "error = y - (est['b0'] + est['b1']*x)\n",
    "\n",
    "# a t dist. fit of the observed error\n",
    "(df, loc, scale) = stats.t.fit(error)\n",
    "rv = stats.t(df, loc=loc, scale=scale)\n",
    "rv_pdf = np.array([e for e in rv.cdf(error)])\n",
    "ax2.plot(error, rv_pdf, '.', lw=2, label='frozen pdf', c='b')\n",
    "\n",
    "# a t dist. of the y value from the observed set\n",
    "(df, loc, scale) = stats.t.fit(y)\n",
    "rv = stats.t(df, loc=loc, scale=scale)\n",
    "rv_pdf = np.array([e for e in rv.cdf(y)])\n",
    "ax2.plot(y, rv_pdf, '.', lw=2, label='frozen pdf', c='k')\n",
    "\n",
    "\n",
    "# t dist of the error value from MCMC\n",
    "rv = stats.t(est['nu'], loc=0, scale=est['lam'])\n",
    "rv_pdf = np.array([e for e in rv.cdf(error)])\n",
    "ax2.plot(error, rv_pdf, '.', lw=2, label='frozen pdf', c='y')\n",
    "\n",
    "fig.show()"
   ]
  },
  {
   "cell_type": "code",
   "execution_count": 70,
   "metadata": {
    "collapsed": false
   },
   "outputs": [
    {
     "name": "stdout",
     "output_type": "stream",
     "text": [
      "\n",
      "b0:\n",
      "\n",
      "  Mean             SD               MC Error         95% HPD interval\n",
      "  -------------------------------------------------------------------\n",
      "  \n",
      "  -5.572           0.701            0.016            [-6.914, -4.249]\n",
      "\n",
      "  Posterior quantiles:\n",
      "  2.5            25             50             75             97.5\n",
      "  |--------------|==============|==============|--------------|\n",
      "  \n",
      "  -6.903         -6.052         -5.580         -5.090         -4.229\n",
      "\n",
      "\n",
      "b1:\n",
      "\n",
      "  Mean             SD               MC Error         95% HPD interval\n",
      "  -------------------------------------------------------------------\n",
      "  \n",
      "  10.634           1.269            0.030            [8.222, 13.107]\n",
      "\n",
      "  Posterior quantiles:\n",
      "  2.5            25             50             75             97.5\n",
      "  |--------------|==============|==============|--------------|\n",
      "  \n",
      "  8.190          9.774          10.611         11.501         13.083\n",
      "\n",
      "\n",
      "lam:\n",
      "\n",
      "  Mean             SD               MC Error         95% HPD interval\n",
      "  -------------------------------------------------------------------\n",
      "  \n",
      "  0.205            0.064            0.001            [0.091, 0.328]\n",
      "\n",
      "  Posterior quantiles:\n",
      "  2.5            25             50             75             97.5\n",
      "  |--------------|==============|==============|--------------|\n",
      "  \n",
      "  0.109          0.159          0.195          0.241          0.357\n",
      "\n",
      "\n",
      "nu:\n",
      "\n",
      "  Mean             SD               MC Error         95% HPD interval\n",
      "  -------------------------------------------------------------------\n",
      "  \n",
      "  1.979            0.550            0.008            [1.066, 3.070]\n",
      "\n",
      "  Posterior quantiles:\n",
      "  2.5            25             50             75             97.5\n",
      "  |--------------|==============|==============|--------------|\n",
      "  \n",
      "  1.186          1.599          1.882          2.258          3.314\n",
      "\n"
     ]
    },
    {
     "data": {
      "text/plain": [
       "NoneType"
      ]
     },
     "execution_count": 70,
     "metadata": {},
     "output_type": "execute_result"
    }
   ],
   "source": [
    "type(pm.summary(trace))"
   ]
  },
  {
   "cell_type": "code",
   "execution_count": 148,
   "metadata": {
    "collapsed": false
   },
   "outputs": [
    {
     "name": "stdout",
     "output_type": "stream",
     "text": [
      "\n",
      "b0:\n",
      "\n",
      "  Mean             SD               MC Error         95% HPD interval\n",
      "  -------------------------------------------------------------------\n",
      "  \n",
      "  -5.548           0.672            0.028            [-6.878, -4.271]\n",
      "\n",
      "  Posterior quantiles:\n",
      "  2.5            25             50             75             97.5\n",
      "  |--------------|==============|==============|--------------|\n",
      "  \n",
      "  -6.841         -6.003         -5.559         -5.125         -4.195\n",
      "\n",
      "\n",
      "b1:\n",
      "\n",
      "  Mean             SD               MC Error         95% HPD interval\n",
      "  -------------------------------------------------------------------\n",
      "  \n",
      "  10.594           1.229            0.051            [8.172, 12.985]\n",
      "\n",
      "  Posterior quantiles:\n",
      "  2.5            25             50             75             97.5\n",
      "  |--------------|==============|==============|--------------|\n",
      "  \n",
      "  8.147          9.819          10.621         11.414         12.977\n",
      "\n",
      "\n",
      "lam:\n",
      "\n",
      "  Mean             SD               MC Error         95% HPD interval\n",
      "  -------------------------------------------------------------------\n",
      "  \n",
      "  0.203            0.064            0.002            [0.092, 0.326]\n",
      "\n",
      "  Posterior quantiles:\n",
      "  2.5            25             50             75             97.5\n",
      "  |--------------|==============|==============|--------------|\n",
      "  \n",
      "  0.107          0.158          0.193          0.238          0.363\n",
      "\n",
      "\n",
      "nu:\n",
      "\n",
      "  Mean             SD               MC Error         95% HPD interval\n",
      "  -------------------------------------------------------------------\n",
      "  \n",
      "  1.992            0.578            0.017            [1.111, 3.137]\n",
      "\n",
      "  Posterior quantiles:\n",
      "  2.5            25             50             75             97.5\n",
      "  |--------------|==============|==============|--------------|\n",
      "  \n",
      "  1.211          1.596          1.889          2.266          3.411\n",
      "\n"
     ]
    }
   ],
   "source": [
    "summary(trace)"
   ]
  }
 ],
 "metadata": {
  "kernelspec": {
   "display_name": "Python 2",
   "language": "python",
   "name": "python2"
  },
  "language_info": {
   "codemirror_mode": {
    "name": "ipython",
    "version": 2
   },
   "file_extension": ".py",
   "mimetype": "text/x-python",
   "name": "python",
   "nbconvert_exporter": "python",
   "pygments_lexer": "ipython2",
   "version": "2.7.12"
  }
 },
 "nbformat": 4,
 "nbformat_minor": 1
}
